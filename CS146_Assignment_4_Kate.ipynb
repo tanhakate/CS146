{
  "nbformat": 4,
  "nbformat_minor": 0,
  "metadata": {
    "kernelspec": {
      "display_name": "Python 3 (Anaconda 5)",
      "env": {
        "LD_LIBRARY_PATH": "/ext/anaconda5/lib",
        "PROJ_LIB": "/ext/anaconda-2019.03/share/proj",
        "PYTHONHOME": "/ext/anaconda5/lib/python3.5",
        "PYTHONPATH": "/ext/anaconda5/lib/python3.5:/ext/anaconda5/lib/python3.5/site-packages"
      },
      "language": "python",
      "metadata": {
        "cocalc": {
          "description": "Python/R distribution for data science",
          "priority": -1,
          "url": "https://www.anaconda.com/distribution/"
        }
      },
      "name": "anaconda5"
    },
    "language_info": {
      "codemirror_mode": {
        "name": "ipython",
        "version": 3
      },
      "file_extension": ".py",
      "mimetype": "text/x-python",
      "name": "python",
      "nbconvert_exporter": "python",
      "pygments_lexer": "ipython3",
      "version": "3.6.7"
    },
    "colab": {
      "name": "CS146 Assignment 4 - Kate",
      "provenance": [],
      "collapsed_sections": []
    }
  },
  "cells": [
    {
      "cell_type": "markdown",
      "metadata": {
        "collapsed": false,
        "id": "t2kJKUOMPyMr",
        "colab_type": "text"
      },
      "source": [
        "# Assignment 4\n",
        "\n",
        "We consider the eczema medical trial data set using the non-hierarchical model where all studies have the same probability of success.\n",
        "\n",
        "|Study          | Treatment group |   Control group  |\n",
        "|---------------|-----------------|------------------|\n",
        "|Di Rienzo 2014 |     20 / 23     |        9 / 15    |\n",
        "|Galli 1994     |     10 / 16     |       11 / 18    |\n",
        "|Kaufman 1974   |     13 / 16     |        4 / 10    |\n",
        "|Qin 2014       |     35 / 45     |       21 / 39    |\n",
        "|Sanchez 2012   |     22 / 31     |       12 / 29    |\n",
        "|Silny 2006     |      7 / 10     |        0 / 10    |\n",
        "|**Totals**     |    107 / 141    |       57 / 121   |\n",
        "\n",
        "\n",
        "**Model 1:**\n",
        "\n",
        "* For each group (treatment and control), all 6 studies have the same fixed, but unknown, probability of success, $\\theta_t,\\theta_c\\in[0,1]$.\n",
        "* The data follow a binomial distribution in each study, conditioned on the probability of success — $\\theta_t$ for treatment or $\\theta_c$ for control.\n",
        "* The priors over $\\theta_t$ and $\\theta_c$ are uniform.\n",
        "\n",
        "These assumptions lead to the following model.\n",
        "\n",
        "* Likelihood: $\\prod_{i=1}^6 \\text{Binomial}(s_i\\,|\\,\\theta, n_i)$, where $s_i$ is the number of successful recoveries, $f_i$ is the number of failures (did not recover), and $n_i=s_i+f_i$ the number of patients.\n",
        "\n",
        "* Prior: $\\text{Beta}(\\theta\\,|\\,1,1)$ for both $\\theta_t$ and $\\theta_c$.\n",
        "\n",
        "* Posterior for treatment group: $\\text{Beta}(\\theta_t\\,|\\,108, 35)$.\n",
        "\n",
        "* Posterior for control group: $\\text{Beta}(\\theta_c\\,|\\,58, 65)$."
      ]
    },
    {
      "cell_type": "markdown",
      "metadata": {
        "id": "7pZVSzFEgG4w",
        "colab_type": "text"
      },
      "source": [
        "# Test Statistic\n",
        "\n",
        "Our test statistic is the size of the interquartile range of the success rates from each iteration of trials i.e. each time we run 6 experiments with the eczema data. I debated between the interquartile range and standard deviation, concluding that the former is appropriate since it captures the spread of the data but is not extremely sensitive to outliers. Given that subjects in a medical trial can have outlier demographic characteristics, I wanted to capture the performance of the eczema drug on average. However, note that a holistic evaluation of the drug's mechanism should find a way to consider the outlier cases. \n",
        "\n",
        "So, given a dataset of succeses, we first compute the success rate and then calculate the difference between the 75th percentile and the 25th percentile. "
      ]
    },
    {
      "cell_type": "code",
      "metadata": {
        "id": "WiVYz8fJgF5T",
        "colab_type": "code",
        "colab": {}
      },
      "source": [
        "# import libraries\n",
        "\n",
        "import numpy as np\n",
        "import scipy.stats as stats\n",
        "import matplotlib.pyplot as plt"
      ],
      "execution_count": 0,
      "outputs": []
    },
    {
      "cell_type": "code",
      "metadata": {
        "id": "n1w1e8zPDbB-",
        "colab_type": "code",
        "colab": {}
      },
      "source": [
        "def test_statistic(data):\n",
        "    #compute success rates for each individual study, depending on the size of the original cohort in that sutdy \n",
        "    success_rates = [data[i]/cohort_size[i] for i in range(len(cohort_size))]\n",
        "    iqr_range = np.percentile(success_rates, 75, interpolation='midpoint') - np.percentile(success_rates, 25, interpolation='midpoint')\n",
        "    return iqr_range"
      ],
      "execution_count": 0,
      "outputs": []
    },
    {
      "cell_type": "code",
      "metadata": {
        "id": "jf8ZkzCPgQnA",
        "colab_type": "code",
        "colab": {}
      },
      "source": [
        "#posterior hyperparameters \n",
        "\n",
        "alpha_control = 58\n",
        "beta_control = 65"
      ],
      "execution_count": 0,
      "outputs": []
    },
    {
      "cell_type": "code",
      "metadata": {
        "id": "TMQhO4YOgWix",
        "colab_type": "code",
        "colab": {}
      },
      "source": [
        "# posterior distributions for control studies\n",
        "\n",
        "posterior_control = stats.beta(alpha_control, beta_control)"
      ],
      "execution_count": 0,
      "outputs": []
    },
    {
      "cell_type": "code",
      "metadata": {
        "id": "i2mdziJYhPn4",
        "colab_type": "code",
        "colab": {}
      },
      "source": [
        "# count of successes in the experiment\n",
        "control_success = [9, 11, 4, 21, 12, 0]\n",
        "\n",
        "# count of cohort size in the experiment\n",
        "cohort_size = [6, 7, 6, 18, 17, 10]"
      ],
      "execution_count": 0,
      "outputs": []
    },
    {
      "cell_type": "code",
      "metadata": {
        "id": "NCI55_a_Hp4r",
        "colab_type": "code",
        "colab": {
          "base_uri": "https://localhost:8080/",
          "height": 34
        },
        "outputId": "407ecda9-195f-4296-fcd7-b9e53074bfd7"
      },
      "source": [
        "actual_test_statistic = test_statistic(control_success)\n",
        "print('The test statistic for the original studies is', actual_test_statistic)"
      ],
      "execution_count": 6,
      "outputs": [
        {
          "output_type": "stream",
          "text": [
            "The test statistic for the original studies is 0.6470588235294119\n"
          ],
          "name": "stdout"
        }
      ]
    },
    {
      "cell_type": "code",
      "metadata": {
        "id": "-Y8xYb79qEb3",
        "colab_type": "code",
        "outputId": "0415e8fa-d7e4-4157-8a68-2fa4027260ce",
        "colab": {
          "base_uri": "https://localhost:8080/",
          "height": 34
        }
      },
      "source": [
        "#Generate samples from the posterior distribution \n",
        "posterior_samples = posterior_control.rvs(size=1000)\n",
        "\n",
        "generated_test_results = [] #initialize empty list to store the iqr range for each iteration of all six experiments\n",
        "\n",
        "# Now, generate a replicate dataset from the likelihood function by conditioning on the sampled θ.\n",
        "for i in posterior_samples:\n",
        "    #the replicates list has six integers for each control group trials\n",
        "    for j in range(len(cohort_size)):\n",
        "      replicates = [int(stats.binom.rvs(cohort_size[j],i,size=1)) for j in range(len(cohort_size))]\n",
        "      # control_size[j] is important because each replicated cohort needs to have the same size as the real cohort, to make sure their statistical behavior is the same.\n",
        "    generated_test_results.append(test_statistic(replicates)) #results are appended to generated_test_results and iterations continues for the number of samples we drew from the posterior \n",
        "    \n",
        "print('The test statistic, on average, for the replicated studies is', np.mean(generated_test_results))"
      ],
      "execution_count": 7,
      "outputs": [
        {
          "output_type": "stream",
          "text": [
            "The test statistic, on average, for the replicated studies is 0.14009906629318392\n"
          ],
          "name": "stdout"
        }
      ]
    },
    {
      "cell_type": "code",
      "metadata": {
        "id": "l4JzeqgBkqsL",
        "colab_type": "code",
        "outputId": "2f8aaca1-8e34-4787-d42b-b77e84f18c6e",
        "colab": {
          "base_uri": "https://localhost:8080/",
          "height": 390
        }
      },
      "source": [
        "plt.figure(figsize=(12, 6))\n",
        "plt.hist(generated_test_results, alpha=0.5, density=True)\n",
        "plt.title(\"Distribution of Size of Interquartile Ranges in Replicated Data\")\n",
        "plt.axvline(actual_test_statistic, color='red', linewidth=1.5, label = \"Actual Test Statistic = 0.65\")\n",
        "plt.legend(loc='upper center')\n",
        "plt.show()"
      ],
      "execution_count": 8,
      "outputs": [
        {
          "output_type": "display_data",
          "data": {
            "image/png": "[encoded data removed]",
            "text/plain": [
              "<Figure size 864x432 with 1 Axes>"
            ]
          },
          "metadata": {
            "tags": []
          }
        }
      ]
    },
    {
      "cell_type": "code",
      "metadata": {
        "id": "dlmyv1usEYpY",
        "colab_type": "code",
        "colab": {
          "base_uri": "https://localhost:8080/",
          "height": 34
        },
        "outputId": "fd7254e3-13f4-43d9-f263-2e1b93e598fa"
      },
      "source": [
        "p_val = np.mean(generated_test_results>actual_test_statistic)\n",
        "print(p_val)"
      ],
      "execution_count": 9,
      "outputs": [
        {
          "output_type": "stream",
          "text": [
            "0.0\n"
          ],
          "name": "stdout"
        }
      ]
    }
  ]
}